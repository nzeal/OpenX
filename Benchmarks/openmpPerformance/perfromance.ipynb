{
 "cells": [
  {
   "cell_type": "code",
   "execution_count": 5,
   "metadata": {},
   "outputs": [
    {
     "data": {
      "application/vnd.webio.node+json": {
       "children": [],
       "instanceArgs": {
        "namespace": "html",
        "tag": "div"
       },
       "nodeType": "DOM",
       "props": {},
       "type": "node"
      },
      "text/html": [
       "<div style=\"padding: 1em; background-color: #f8d6da; border: 1px solid #f5c6cb; font-weight: bold;\">\n",
       "<p>The WebIO Jupyter extension was not detected. See the\n",
       "<a href=\"https://juliagizmos.github.io/WebIO.jl/latest/providers/ijulia/\" target=\"_blank\">\n",
       "    WebIO Jupyter integration documentation\n",
       "</a>\n",
       "for more information.\n",
       "</div>\n"
      ],
      "text/plain": [
       "WebIO._IJuliaInit()"
      ]
     },
     "metadata": {
      "application/vnd.webio.node+json": {
       "kernelId": "8acb96d4-3875-42b2-96e5-136c98b5771c"
      }
     },
     "output_type": "display_data"
    }
   ],
   "source": [
    "using PlotlyJS"
   ]
  },
  {
   "cell_type": "code",
   "execution_count": 1,
   "metadata": {},
   "outputs": [],
   "source": [
    "time_thread1  = 28.44;\n",
    "time_thread2  = 14.24;\n",
    "time_thread4  = 7.21; \n",
    "time_thread8  = 3.58;\n",
    "time_thread16 = 1.93;\n",
    "time_thread32 = 1.22;\n",
    "time_thread64 = 0.77;\n",
    "t_ompgpuThreaded = 3.40;\n",
    "t_ompgpuimprove = 0.31;\n",
    "t_ompgpuimprove1 = 0.21;\n",
    "t_openaccgpu = 0.17;"
   ]
  },
  {
   "cell_type": "code",
   "execution_count": 10,
   "metadata": {},
   "outputs": [
    {
     "data": {
      "text/plain": [
       "11-element Vector{Float64}:\n",
       "   1.0\n",
       "   1.9971910112359552\n",
       "   3.944521497919556\n",
       "   7.944134078212291\n",
       "  14.735751295336788\n",
       "  23.311475409836067\n",
       "  36.935064935064936\n",
       "   8.364705882352942\n",
       "  91.74193548387098\n",
       " 135.42857142857144\n",
       " 167.2941176470588"
      ]
     },
     "execution_count": 10,
     "metadata": {},
     "output_type": "execute_result"
    }
   ],
   "source": [
    "times = [time_thread1, time_thread2, time_thread4, time_thread8, time_thread16, time_thread32, time_thread64,  t_ompgpuThreaded, t_ompgpuimprove, t_ompgpuimprove1, t_openaccgpu ]\n",
    "speedup = maximum(times) ./ times"
   ]
  },
  {
   "cell_type": "code",
   "execution_count": 13,
   "metadata": {
    "scrolled": true
   },
   "outputs": [
    {
     "data": {
      "text/plain": [
       "\"/Users/nitshuklayahoo.com/Documents/HPC/Courses/gpuprogramming/benchmarkfig1.png\""
      ]
     },
     "execution_count": 13,
     "metadata": {},
     "output_type": "execute_result"
    }
   ],
   "source": [
    "function bar1()\n",
    "    data = bar(;x=[\"OpenMP:thread_1\", \"OpenMP:thread_2\", \"OpenMP:thread_4\", \"OpenMP:thread_8\", \"OpenMP:thread_16\", \"OpenMP:thread_32\", \"OpenMP:thread_64\", \"OpenMP:GPUThreaded\", \"OpenMP:GPUoptimized\", \"OpenMP:GPUoptimized1\", \"OpenACC:GPUoptimized\"],\n",
    "               \ty=speedup,\n",
    "        marker_color=[\"rgb(107, 107, 107)\",\n",
    "                      \"rgb(107, 107, 107)\",\n",
    "                      \"rgb(107, 107, 107)\",\n",
    "                      \"rgb(107, 107, 107)\",\n",
    "                      \"rgb(107, 107, 107)\",\n",
    "                      \"rgb(107, 107, 107)\",\n",
    "                      \"rgb(26, 118, 255)\",\n",
    "                      \"rgba(222, 45, 38, 1)\",\n",
    "                      \"rgba(21, 147, 117, 1)\",\n",
    "                      \"rgba(21, 147, 225, 1)\",\n",
    "                      \"rgba(118, 185, 7, 1)\" ])\n",
    "    \n",
    "    layout = Layout(;title=\"Laplace2D: OpenMP vs OpenACC offloads Using PGI Compiler\",\n",
    "\t\t             xaxis=attr(tickfont_size= 14,\n",
    "                                tickfont_color=\"rgb(107, 107, 107)\"),\n",
    "\t\t             yaxis=attr(title=\"Speed up\",\n",
    "                                titlefont=attr(size=16,\n",
    "                                               color=\"rgb(107, 107, 107)\"),\n",
    "                                tickfont=attr(size=14,\n",
    "                                              color=\"rgb(107, 107, 107)\")),\n",
    "                     legend=attr(x=0, y=1.0, bgcolor=\"rgba(255, 255, 255, 0)\",\n",
    "                                 bordercolor=\"rgba(255, 255, 255, 0)\"),\n",
    "                     barmode=\"group\",\n",
    "                     bargap=0.15,\n",
    "                     bargroupgap=0.1)\n",
    "    \n",
    "    p1 = plot(data,layout)\n",
    "    \n",
    "    figpath= \"/Users/nitshuklayahoo.com/Documents/HPC/Courses/gpuprogramming/benchmark\"\n",
    "    savefig(p1,figpath*\"fig1.png\")\n",
    "\n",
    "\n",
    "end\n",
    "bar1()"
   ]
  },
  {
   "cell_type": "code",
   "execution_count": null,
   "metadata": {},
   "outputs": [],
   "source": []
  }
 ],
 "metadata": {
  "@webio": {
   "lastCommId": "cb0221acd5184708894ad2a56efb7145",
   "lastKernelId": "8acb96d4-3875-42b2-96e5-136c98b5771c"
  },
  "kernelspec": {
   "display_name": "Julia 1.7.2",
   "language": "julia",
   "name": "julia-1.7"
  },
  "language_info": {
   "file_extension": ".jl",
   "mimetype": "application/julia",
   "name": "julia",
   "version": "1.7.2"
  }
 },
 "nbformat": 4,
 "nbformat_minor": 4
}
